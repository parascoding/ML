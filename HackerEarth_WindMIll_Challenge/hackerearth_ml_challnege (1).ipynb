{
  "nbformat": 4,
  "nbformat_minor": 0,
  "metadata": {
    "colab": {
      "name": "hackerearth_ml_challnege.ipynb",
      "provenance": [],
      "collapsed_sections": []
    },
    "kernelspec": {
      "name": "python3",
      "display_name": "Python 3"
    },
    "language_info": {
      "name": "python"
    }
  },
  "cells": [
    {
      "cell_type": "code",
      "metadata": {
        "colab": {
          "base_uri": "https://localhost:8080/"
        },
        "id": "DqoQNnMV71bz",
        "outputId": "6f1d7d32-a8ff-42f6-b251-e4858225febc"
      },
      "source": [
        "from google.colab import drive\n",
        "drive.mount(\"/content/drive\")"
      ],
      "execution_count": 128,
      "outputs": [
        {
          "output_type": "stream",
          "text": [
            "Drive already mounted at /content/drive; to attempt to forcibly remount, call drive.mount(\"/content/drive\", force_remount=True).\n"
          ],
          "name": "stdout"
        }
      ]
    },
    {
      "cell_type": "code",
      "metadata": {
        "id": "82vKCWyv7-3E"
      },
      "source": [
        ""
      ],
      "execution_count": 128,
      "outputs": []
    },
    {
      "cell_type": "code",
      "metadata": {
        "id": "11LOGQnd9QFl"
      },
      "source": [
        "import numpy as np\n",
        "import pandas as pd\n",
        "import matplotlib.pyplot as plt\n",
        "import seaborn as sns"
      ],
      "execution_count": 129,
      "outputs": []
    },
    {
      "cell_type": "code",
      "metadata": {
        "id": "1j1IOz7WKBJI"
      },
      "source": [
        "train=pd.read_csv(\"/content/drive/MyDrive/Colab Notebooks/dataset/train.csv\")\n",
        "test=pd.read_csv(\"/content/drive/MyDrive/Colab Notebooks/dataset/test.csv\")\n",
        "train_test=[train, test]\n",
        "train_test_data=pd.concat(train_test)"
      ],
      "execution_count": 130,
      "outputs": []
    },
    {
      "cell_type": "markdown",
      "metadata": {
        "id": "WzfetS8P2g_k"
      },
      "source": [
        ""
      ]
    },
    {
      "cell_type": "code",
      "metadata": {
        "id": "dV61KouU1KzU"
      },
      "source": [
        "test=pd.read_csv(\"/content/drive/MyDrive/Colab Notebooks/dataset/test.csv\")"
      ],
      "execution_count": 189,
      "outputs": []
    },
    {
      "cell_type": "markdown",
      "metadata": {
        "id": "Nzl8rOGSrmwD"
      },
      "source": [
        "## Visualizing data"
      ]
    },
    {
      "cell_type": "code",
      "metadata": {
        "colab": {
          "base_uri": "https://localhost:8080/",
          "height": 143
        },
        "id": "Rw_kkzK2rqdl",
        "outputId": "beb6deb0-adda-4751-921c-decf663d86f5"
      },
      "source": [
        "train.head(2)"
      ],
      "execution_count": 150,
      "outputs": [
        {
          "output_type": "execute_result",
          "data": {
            "text/html": [
              "<div>\n",
              "<style scoped>\n",
              "    .dataframe tbody tr th:only-of-type {\n",
              "        vertical-align: middle;\n",
              "    }\n",
              "\n",
              "    .dataframe tbody tr th {\n",
              "        vertical-align: top;\n",
              "    }\n",
              "\n",
              "    .dataframe thead th {\n",
              "        text-align: right;\n",
              "    }\n",
              "</style>\n",
              "<table border=\"1\" class=\"dataframe\">\n",
              "  <thead>\n",
              "    <tr style=\"text-align: right;\">\n",
              "      <th></th>\n",
              "      <th>wind_speed(m/s)</th>\n",
              "      <th>atmospheric_temperature(°C)</th>\n",
              "      <th>shaft_temperature(°C)</th>\n",
              "      <th>blades_angle(°)</th>\n",
              "      <th>gearbox_temperature(°C)</th>\n",
              "      <th>engine_temperature(°C)</th>\n",
              "      <th>motor_torque(N-m)</th>\n",
              "      <th>generator_temperature(°C)</th>\n",
              "      <th>atmospheric_pressure(Pascal)</th>\n",
              "      <th>area_temperature(°C)</th>\n",
              "      <th>wind_direction(°)</th>\n",
              "      <th>resistance(ohm)</th>\n",
              "      <th>rotor_torque(N-m)</th>\n",
              "      <th>cloud_level</th>\n",
              "      <th>blade_length(m)</th>\n",
              "      <th>blade_breadth(m)</th>\n",
              "      <th>windmill_height(m)</th>\n",
              "      <th>windmill_generated_power(kW/h)</th>\n",
              "    </tr>\n",
              "  </thead>\n",
              "  <tbody>\n",
              "    <tr>\n",
              "      <th>0</th>\n",
              "      <td>94.820023</td>\n",
              "      <td>-99.000000</td>\n",
              "      <td>41.723019</td>\n",
              "      <td>-0.903423</td>\n",
              "      <td>82.410573</td>\n",
              "      <td>42.523015</td>\n",
              "      <td>2563.124522</td>\n",
              "      <td>76.665560</td>\n",
              "      <td>103402.961872</td>\n",
              "      <td>26.897875</td>\n",
              "      <td>239.836388</td>\n",
              "      <td>2730.310605</td>\n",
              "      <td>42.084666</td>\n",
              "      <td>2</td>\n",
              "      <td>2.217542</td>\n",
              "      <td>0.314065</td>\n",
              "      <td>24.281689</td>\n",
              "      <td>6.766521</td>\n",
              "    </tr>\n",
              "    <tr>\n",
              "      <th>1</th>\n",
              "      <td>241.832734</td>\n",
              "      <td>27.764785</td>\n",
              "      <td>-99.000000</td>\n",
              "      <td>-99.000000</td>\n",
              "      <td>44.104919</td>\n",
              "      <td>46.258870</td>\n",
              "      <td>2372.384119</td>\n",
              "      <td>78.129803</td>\n",
              "      <td>17030.904078</td>\n",
              "      <td>39.801469</td>\n",
              "      <td>337.944723</td>\n",
              "      <td>1780.207200</td>\n",
              "      <td>107.888643</td>\n",
              "      <td>2</td>\n",
              "      <td>4.210346</td>\n",
              "      <td>0.448494</td>\n",
              "      <td>27.262139</td>\n",
              "      <td>5.966275</td>\n",
              "    </tr>\n",
              "  </tbody>\n",
              "</table>\n",
              "</div>"
            ],
            "text/plain": [
              "   wind_speed(m/s)  ...  windmill_generated_power(kW/h)\n",
              "0        94.820023  ...                        6.766521\n",
              "1       241.832734  ...                        5.966275\n",
              "\n",
              "[2 rows x 18 columns]"
            ]
          },
          "metadata": {
            "tags": []
          },
          "execution_count": 150
        }
      ]
    },
    {
      "cell_type": "code",
      "metadata": {
        "colab": {
          "base_uri": "https://localhost:8080/"
        },
        "id": "0P-serP6uVNb",
        "outputId": "4e90c517-3cc5-4ecb-b250-05970d3fd12a"
      },
      "source": [
        "train['cloud_level'].value_counts()"
      ],
      "execution_count": 143,
      "outputs": [
        {
          "output_type": "execute_result",
          "data": {
            "text/plain": [
              "1.0    13921\n",
              "2.0    13704\n",
              "3.0      299\n",
              "Name: cloud_level, dtype: int64"
            ]
          },
          "metadata": {
            "tags": []
          },
          "execution_count": 143
        }
      ]
    },
    {
      "cell_type": "code",
      "metadata": {
        "id": "8xzcc40uOPgV"
      },
      "source": [
        "# col = [\"turbine_status\", \"windmill_body_temperature(°C)\",\"tracking_id\",\"datetime\"]\n",
        "# train=train.drop(train[col],axis=1)\n",
        "\n",
        "## Test \n",
        "\n",
        "col = [\"turbine_status\", \"windmill_body_temperature(°C)\"]\n",
        "test=test.drop(train[col],axis=1)"
      ],
      "execution_count": 167,
      "outputs": []
    },
    {
      "cell_type": "code",
      "metadata": {
        "id": "h41hiSedujUD"
      },
      "source": [
        "mapping={\"Low\":1, \"Medium\":2, \"Extremely Low\":3}\n",
        "# train['cloud_level']=train['cloud_level'].astype(np.int64)\n",
        "test['cloud_level']=test['cloud_level'].fillna(2.0)\n",
        "test['cloud_level']=test['cloud_level'].astype(np.int64)"
      ],
      "execution_count": 173,
      "outputs": []
    },
    {
      "cell_type": "code",
      "metadata": {
        "colab": {
          "base_uri": "https://localhost:8080/"
        },
        "id": "rEjCQh_Uw1Rl",
        "outputId": "01a16b17-5ef0-471d-900f-3eaa63654574"
      },
      "source": [
        "train.isnull().sum()"
      ],
      "execution_count": 151,
      "outputs": [
        {
          "output_type": "execute_result",
          "data": {
            "text/plain": [
              "wind_speed(m/s)                   0\n",
              "atmospheric_temperature(°C)       0\n",
              "shaft_temperature(°C)             0\n",
              "blades_angle(°)                   0\n",
              "gearbox_temperature(°C)           0\n",
              "engine_temperature(°C)            0\n",
              "motor_torque(N-m)                 0\n",
              "generator_temperature(°C)         0\n",
              "atmospheric_pressure(Pascal)      0\n",
              "area_temperature(°C)              0\n",
              "wind_direction(°)                 0\n",
              "resistance(ohm)                   0\n",
              "rotor_torque(N-m)                 0\n",
              "cloud_level                       0\n",
              "blade_length(m)                   0\n",
              "blade_breadth(m)                  0\n",
              "windmill_height(m)                0\n",
              "windmill_generated_power(kW/h)    0\n",
              "dtype: int64"
            ]
          },
          "metadata": {
            "tags": []
          },
          "execution_count": 151
        }
      ]
    },
    {
      "cell_type": "code",
      "metadata": {
        "id": "5RAhMzI0xHI_"
      },
      "source": [
        "# train.fillna(train.mean(), inplace=True)\n",
        "test.fillna(test.mean(),inplace=True)"
      ],
      "execution_count": 180,
      "outputs": []
    },
    {
      "cell_type": "code",
      "metadata": {
        "id": "vRhdk0EfzHfT"
      },
      "source": [
        ""
      ],
      "execution_count": null,
      "outputs": []
    },
    {
      "cell_type": "code",
      "metadata": {
        "colab": {
          "base_uri": "https://localhost:8080/"
        },
        "id": "ScFHlKF8Bf00",
        "outputId": "9c11ec10-d5c0-4337-a3b3-b2bd6d7df2a2"
      },
      "source": [
        "corr=train.corr()\n",
        "corr.sort_values([\"windmill_generated_power(kW/h)\"],ascending=False,inplace=True)\n",
        "# print((corr.windmill_generated_power(kW/h)))\n",
        "print(corr)"
      ],
      "execution_count": 152,
      "outputs": [
        {
          "output_type": "stream",
          "text": [
            "                                wind_speed(m/s)  ...  windmill_generated_power(kW/h)\n",
            "windmill_generated_power(kW/h)         0.062246  ...                        1.000000\n",
            "motor_torque(N-m)                      0.375787  ...                        0.503155\n",
            "generator_temperature(°C)              0.425292  ...                        0.390092\n",
            "area_temperature(°C)                   0.197517  ...                        0.383173\n",
            "wind_direction(°)                      0.041446  ...                        0.311539\n",
            "engine_temperature(°C)                 0.153978  ...                        0.271819\n",
            "resistance(ohm)                        0.235377  ...                        0.239190\n",
            "rotor_torque(N-m)                      0.150803  ...                        0.184737\n",
            "blade_breadth(m)                       0.003884  ...                        0.085642\n",
            "wind_speed(m/s)                        1.000000  ...                        0.062246\n",
            "gearbox_temperature(°C)                0.016169  ...                        0.053017\n",
            "shaft_temperature(°C)                  0.038312  ...                        0.046366\n",
            "blade_length(m)                        0.006298  ...                        0.012881\n",
            "windmill_height(m)                    -0.011762  ...                        0.003855\n",
            "atmospheric_temperature(°C)            0.048803  ...                       -0.000941\n",
            "atmospheric_pressure(Pascal)          -0.114828  ...                       -0.012578\n",
            "cloud_level                           -0.004966  ...                       -0.037420\n",
            "blades_angle(°)                       -0.003561  ...                       -0.153607\n",
            "\n",
            "[18 rows x 18 columns]\n"
          ],
          "name": "stdout"
        }
      ]
    },
    {
      "cell_type": "code",
      "metadata": {
        "id": "M9w2dbQqQYCo"
      },
      "source": [
        "X_train = train.drop('windmill_generated_power(kW/h)', axis=1)\n",
        "y_train = train['windmill_generated_power(kW/h)']\n",
        "X_test = test"
      ],
      "execution_count": 181,
      "outputs": []
    },
    {
      "cell_type": "code",
      "metadata": {
        "colab": {
          "base_uri": "https://localhost:8080/"
        },
        "id": "DFU_8Mx3QKI3",
        "outputId": "dc736504-e710-467d-c505-4fb1f2d61d99"
      },
      "source": [
        "from sklearn.ensemble import RandomForestRegressor\n",
        "  \n",
        " # create regressor object\n",
        "regressor = RandomForestRegressor(n_estimators = 100, random_state = 0)\n",
        "  \n",
        "# fit the regressor with x and y data\n",
        "regressor.fit(X_train, y_train)  \n",
        "# from sklearn.neighbors import KNeighborsClassifier\n",
        "# knn = KNeighborsClassifier()\n",
        "# knn.fit(X_train, y_train)"
      ],
      "execution_count": 177,
      "outputs": [
        {
          "output_type": "execute_result",
          "data": {
            "text/plain": [
              "RandomForestRegressor(bootstrap=True, ccp_alpha=0.0, criterion='mse',\n",
              "                      max_depth=None, max_features='auto', max_leaf_nodes=None,\n",
              "                      max_samples=None, min_impurity_decrease=0.0,\n",
              "                      min_impurity_split=None, min_samples_leaf=1,\n",
              "                      min_samples_split=2, min_weight_fraction_leaf=0.0,\n",
              "                      n_estimators=100, n_jobs=None, oob_score=False,\n",
              "                      random_state=0, verbose=0, warm_start=False)"
            ]
          },
          "metadata": {
            "tags": []
          },
          "execution_count": 177
        }
      ]
    },
    {
      "cell_type": "code",
      "metadata": {
        "colab": {
          "base_uri": "https://localhost:8080/",
          "height": 143
        },
        "id": "_IR3xSkTyrJo",
        "outputId": "8c9b9f3c-bf4a-4056-8f9d-9e922b41bd53"
      },
      "source": [
        "X_test.head(2)\n",
        "# del (X_test['tracking_id'])\n",
        "# del (X_test['datetime'])\n",
        "# del(X_test['turbine_status'])\n",
        "# del(X_test['wi'])"
      ],
      "execution_count": 185,
      "outputs": [
        {
          "output_type": "execute_result",
          "data": {
            "text/html": [
              "<div>\n",
              "<style scoped>\n",
              "    .dataframe tbody tr th:only-of-type {\n",
              "        vertical-align: middle;\n",
              "    }\n",
              "\n",
              "    .dataframe tbody tr th {\n",
              "        vertical-align: top;\n",
              "    }\n",
              "\n",
              "    .dataframe thead th {\n",
              "        text-align: right;\n",
              "    }\n",
              "</style>\n",
              "<table border=\"1\" class=\"dataframe\">\n",
              "  <thead>\n",
              "    <tr style=\"text-align: right;\">\n",
              "      <th></th>\n",
              "      <th>wind_speed(m/s)</th>\n",
              "      <th>atmospheric_temperature(°C)</th>\n",
              "      <th>shaft_temperature(°C)</th>\n",
              "      <th>blades_angle(°)</th>\n",
              "      <th>gearbox_temperature(°C)</th>\n",
              "      <th>engine_temperature(°C)</th>\n",
              "      <th>motor_torque(N-m)</th>\n",
              "      <th>generator_temperature(°C)</th>\n",
              "      <th>atmospheric_pressure(Pascal)</th>\n",
              "      <th>area_temperature(°C)</th>\n",
              "      <th>windmill_body_temperature(°C)</th>\n",
              "      <th>wind_direction(°)</th>\n",
              "      <th>resistance(ohm)</th>\n",
              "      <th>rotor_torque(N-m)</th>\n",
              "      <th>cloud_level</th>\n",
              "      <th>blade_length(m)</th>\n",
              "      <th>blade_breadth(m)</th>\n",
              "      <th>windmill_height(m)</th>\n",
              "    </tr>\n",
              "  </thead>\n",
              "  <tbody>\n",
              "    <tr>\n",
              "      <th>0</th>\n",
              "      <td>94.324266</td>\n",
              "      <td>17.641186</td>\n",
              "      <td>89.714193</td>\n",
              "      <td>51.146788</td>\n",
              "      <td>40.460560</td>\n",
              "      <td>39.594734</td>\n",
              "      <td>1073.202715</td>\n",
              "      <td>66.830037</td>\n",
              "      <td>16681.044117</td>\n",
              "      <td>24.004812</td>\n",
              "      <td>43.756693</td>\n",
              "      <td>445.976992</td>\n",
              "      <td>1664.222023</td>\n",
              "      <td>21.912243</td>\n",
              "      <td>2</td>\n",
              "      <td>3.185837</td>\n",
              "      <td>0.403965</td>\n",
              "      <td>25.572431</td>\n",
              "    </tr>\n",
              "    <tr>\n",
              "      <th>1</th>\n",
              "      <td>10.088870</td>\n",
              "      <td>13.978119</td>\n",
              "      <td>43.272846</td>\n",
              "      <td>46.516394</td>\n",
              "      <td>40.027788</td>\n",
              "      <td>41.176860</td>\n",
              "      <td>517.436430</td>\n",
              "      <td>37.284163</td>\n",
              "      <td>54283.324683</td>\n",
              "      <td>29.431813</td>\n",
              "      <td>42.728174</td>\n",
              "      <td>499.595287</td>\n",
              "      <td>1165.111992</td>\n",
              "      <td>-35.050093</td>\n",
              "      <td>2</td>\n",
              "      <td>3.016603</td>\n",
              "      <td>0.444755</td>\n",
              "      <td>24.371823</td>\n",
              "    </tr>\n",
              "  </tbody>\n",
              "</table>\n",
              "</div>"
            ],
            "text/plain": [
              "   wind_speed(m/s)  ...  windmill_height(m)\n",
              "0        94.324266  ...           25.572431\n",
              "1        10.088870  ...           24.371823\n",
              "\n",
              "[2 rows x 18 columns]"
            ]
          },
          "metadata": {
            "tags": []
          },
          "execution_count": 185
        }
      ]
    },
    {
      "cell_type": "code",
      "metadata": {
        "colab": {
          "base_uri": "https://localhost:8080/",
          "height": 143
        },
        "id": "lv7hG8ng01Eo",
        "outputId": "ab28abda-6c5c-4f00-b475-fb532466bf6f"
      },
      "source": [
        "X_train.head(2)"
      ],
      "execution_count": 188,
      "outputs": [
        {
          "output_type": "execute_result",
          "data": {
            "text/html": [
              "<div>\n",
              "<style scoped>\n",
              "    .dataframe tbody tr th:only-of-type {\n",
              "        vertical-align: middle;\n",
              "    }\n",
              "\n",
              "    .dataframe tbody tr th {\n",
              "        vertical-align: top;\n",
              "    }\n",
              "\n",
              "    .dataframe thead th {\n",
              "        text-align: right;\n",
              "    }\n",
              "</style>\n",
              "<table border=\"1\" class=\"dataframe\">\n",
              "  <thead>\n",
              "    <tr style=\"text-align: right;\">\n",
              "      <th></th>\n",
              "      <th>wind_speed(m/s)</th>\n",
              "      <th>atmospheric_temperature(°C)</th>\n",
              "      <th>shaft_temperature(°C)</th>\n",
              "      <th>blades_angle(°)</th>\n",
              "      <th>gearbox_temperature(°C)</th>\n",
              "      <th>engine_temperature(°C)</th>\n",
              "      <th>motor_torque(N-m)</th>\n",
              "      <th>generator_temperature(°C)</th>\n",
              "      <th>atmospheric_pressure(Pascal)</th>\n",
              "      <th>area_temperature(°C)</th>\n",
              "      <th>wind_direction(°)</th>\n",
              "      <th>resistance(ohm)</th>\n",
              "      <th>rotor_torque(N-m)</th>\n",
              "      <th>cloud_level</th>\n",
              "      <th>blade_length(m)</th>\n",
              "      <th>blade_breadth(m)</th>\n",
              "      <th>windmill_height(m)</th>\n",
              "    </tr>\n",
              "  </thead>\n",
              "  <tbody>\n",
              "    <tr>\n",
              "      <th>0</th>\n",
              "      <td>94.820023</td>\n",
              "      <td>-99.000000</td>\n",
              "      <td>41.723019</td>\n",
              "      <td>-0.903423</td>\n",
              "      <td>82.410573</td>\n",
              "      <td>42.523015</td>\n",
              "      <td>2563.124522</td>\n",
              "      <td>76.665560</td>\n",
              "      <td>103402.961872</td>\n",
              "      <td>26.897875</td>\n",
              "      <td>239.836388</td>\n",
              "      <td>2730.310605</td>\n",
              "      <td>42.084666</td>\n",
              "      <td>2</td>\n",
              "      <td>2.217542</td>\n",
              "      <td>0.314065</td>\n",
              "      <td>24.281689</td>\n",
              "    </tr>\n",
              "    <tr>\n",
              "      <th>1</th>\n",
              "      <td>241.832734</td>\n",
              "      <td>27.764785</td>\n",
              "      <td>-99.000000</td>\n",
              "      <td>-99.000000</td>\n",
              "      <td>44.104919</td>\n",
              "      <td>46.258870</td>\n",
              "      <td>2372.384119</td>\n",
              "      <td>78.129803</td>\n",
              "      <td>17030.904078</td>\n",
              "      <td>39.801469</td>\n",
              "      <td>337.944723</td>\n",
              "      <td>1780.207200</td>\n",
              "      <td>107.888643</td>\n",
              "      <td>2</td>\n",
              "      <td>4.210346</td>\n",
              "      <td>0.448494</td>\n",
              "      <td>27.262139</td>\n",
              "    </tr>\n",
              "  </tbody>\n",
              "</table>\n",
              "</div>"
            ],
            "text/plain": [
              "   wind_speed(m/s)  ...  windmill_height(m)\n",
              "0        94.820023  ...           24.281689\n",
              "1       241.832734  ...           27.262139\n",
              "\n",
              "[2 rows x 17 columns]"
            ]
          },
          "metadata": {
            "tags": []
          },
          "execution_count": 188
        }
      ]
    },
    {
      "cell_type": "code",
      "metadata": {
        "colab": {
          "base_uri": "https://localhost:8080/"
        },
        "id": "ycHFkprN0PzD",
        "outputId": "c844097f-ae66-4cdd-e5ca-31b22d8a225c"
      },
      "source": [
        "X_test.isnull().sum()"
      ],
      "execution_count": 182,
      "outputs": [
        {
          "output_type": "execute_result",
          "data": {
            "text/plain": [
              "wind_speed(m/s)                  0\n",
              "atmospheric_temperature(°C)      0\n",
              "shaft_temperature(°C)            0\n",
              "blades_angle(°)                  0\n",
              "gearbox_temperature(°C)          0\n",
              "engine_temperature(°C)           0\n",
              "motor_torque(N-m)                0\n",
              "generator_temperature(°C)        0\n",
              "atmospheric_pressure(Pascal)     0\n",
              "area_temperature(°C)             0\n",
              "windmill_body_temperature(°C)    0\n",
              "wind_direction(°)                0\n",
              "resistance(ohm)                  0\n",
              "rotor_torque(N-m)                0\n",
              "cloud_level                      0\n",
              "blade_length(m)                  0\n",
              "blade_breadth(m)                 0\n",
              "windmill_height(m)               0\n",
              "dtype: int64"
            ]
          },
          "metadata": {
            "tags": []
          },
          "execution_count": 182
        }
      ]
    },
    {
      "cell_type": "code",
      "metadata": {
        "id": "WEr5au5p1U6q"
      },
      "source": [
        "del (X_test['windmill_body_temperature(°C)'])"
      ],
      "execution_count": 190,
      "outputs": []
    },
    {
      "cell_type": "code",
      "metadata": {
        "id": "SoV2HL_3ykVo"
      },
      "source": [
        "y_pred=regressor.predict(X_test)"
      ],
      "execution_count": 191,
      "outputs": []
    },
    {
      "cell_type": "markdown",
      "metadata": {
        "id": "qRasNqTerC4h"
      },
      "source": [
        "## Downloading part\n"
      ]
    },
    {
      "cell_type": "code",
      "metadata": {
        "id": "RXj7mdwfyMZo"
      },
      "source": [
        "another_test=pd.read_csv(\"/content/drive/MyDrive/Colab Notebooks/dataset/test.csv\")"
      ],
      "execution_count": 192,
      "outputs": []
    },
    {
      "cell_type": "code",
      "metadata": {
        "id": "jnUGC6ysUEqi"
      },
      "source": [
        "answer=pd.DataFrame({\n",
        "    \"tracking_id\": another_test['tracking_id'],\n",
        "    \"datetime\": another_test['datetime'],\n",
        "    \"windmill_generated_power(kW/h)\": y_pred\n",
        "})"
      ],
      "execution_count": 193,
      "outputs": []
    },
    {
      "cell_type": "code",
      "metadata": {
        "id": "0HSon-qSWA2Q"
      },
      "source": [
        "answer.to_csv(\"final_ans1.csv\", index=False)"
      ],
      "execution_count": 194,
      "outputs": []
    },
    {
      "cell_type": "code",
      "metadata": {
        "colab": {
          "base_uri": "https://localhost:8080/",
          "height": 17
        },
        "id": "qW1roAR3WIia",
        "outputId": "2b34180a-2a7f-4ee7-dc53-993129ef0dc9"
      },
      "source": [
        "from google.colab import files\n",
        "files.download(\"final_ans1.csv\")"
      ],
      "execution_count": 195,
      "outputs": [
        {
          "output_type": "display_data",
          "data": {
            "application/javascript": [
              "\n",
              "    async function download(id, filename, size) {\n",
              "      if (!google.colab.kernel.accessAllowed) {\n",
              "        return;\n",
              "      }\n",
              "      const div = document.createElement('div');\n",
              "      const label = document.createElement('label');\n",
              "      label.textContent = `Downloading \"${filename}\": `;\n",
              "      div.appendChild(label);\n",
              "      const progress = document.createElement('progress');\n",
              "      progress.max = size;\n",
              "      div.appendChild(progress);\n",
              "      document.body.appendChild(div);\n",
              "\n",
              "      const buffers = [];\n",
              "      let downloaded = 0;\n",
              "\n",
              "      const channel = await google.colab.kernel.comms.open(id);\n",
              "      // Send a message to notify the kernel that we're ready.\n",
              "      channel.send({})\n",
              "\n",
              "      for await (const message of channel.messages) {\n",
              "        // Send a message to notify the kernel that we're ready.\n",
              "        channel.send({})\n",
              "        if (message.buffers) {\n",
              "          for (const buffer of message.buffers) {\n",
              "            buffers.push(buffer);\n",
              "            downloaded += buffer.byteLength;\n",
              "            progress.value = downloaded;\n",
              "          }\n",
              "        }\n",
              "      }\n",
              "      const blob = new Blob(buffers, {type: 'application/binary'});\n",
              "      const a = document.createElement('a');\n",
              "      a.href = window.URL.createObjectURL(blob);\n",
              "      a.download = filename;\n",
              "      div.appendChild(a);\n",
              "      a.click();\n",
              "      div.remove();\n",
              "    }\n",
              "  "
            ],
            "text/plain": [
              "<IPython.core.display.Javascript object>"
            ]
          },
          "metadata": {
            "tags": []
          }
        },
        {
          "output_type": "display_data",
          "data": {
            "application/javascript": [
              "download(\"download_cef89393-389e-46d6-b966-2b7a9b91943f\", \"final_ans1.csv\", 566850)"
            ],
            "text/plain": [
              "<IPython.core.display.Javascript object>"
            ]
          },
          "metadata": {
            "tags": []
          }
        }
      ]
    },
    {
      "cell_type": "code",
      "metadata": {
        "id": "2eUBtqrXWOEa"
      },
      "source": [
        ""
      ],
      "execution_count": 100,
      "outputs": []
    }
  ]
}